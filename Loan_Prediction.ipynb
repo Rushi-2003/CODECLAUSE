{
  "cells": [
    {
      "cell_type": "markdown",
      "metadata": {
        "id": "view-in-github",
        "colab_type": "text"
      },
      "source": [
        "<a href=\"https://colab.research.google.com/github/Rushi-2003/CODECLAUSE/blob/main/Loan_Prediction.ipynb\" target=\"_parent\"><img src=\"https://colab.research.google.com/assets/colab-badge.svg\" alt=\"Open In Colab\"/></a>"
      ]
    },
    {
      "cell_type": "code",
      "execution_count": null,
      "id": "40537272",
      "metadata": {
        "execution": {
          "iopub.execute_input": "2023-08-17T05:35:41.187459Z",
          "iopub.status.busy": "2023-08-17T05:35:41.187158Z",
          "iopub.status.idle": "2023-08-17T05:35:43.069341Z",
          "shell.execute_reply": "2023-08-17T05:35:43.068180Z"
        },
        "papermill": {
          "duration": 1.892902,
          "end_time": "2023-08-17T05:35:43.072596",
          "exception": false,
          "start_time": "2023-08-17T05:35:41.179694",
          "status": "completed"
        },
        "tags": [],
        "id": "40537272"
      },
      "outputs": [],
      "source": [
        "import numpy as np # linear algebra\n",
        "import pandas as pd\n",
        "from sklearn.preprocessing import LabelEncoder\n",
        "from sklearn.preprocessing import StandardScaler\n",
        "from sklearn.model_selection import train_test_split\n",
        "from sklearn.metrics import accuracy_score\n"
      ]
    },
    {
      "cell_type": "code",
      "execution_count": null,
      "id": "116f770c",
      "metadata": {
        "execution": {
          "iopub.execute_input": "2023-08-17T05:35:43.089695Z",
          "iopub.status.busy": "2023-08-17T05:35:43.088798Z",
          "iopub.status.idle": "2023-08-17T05:35:43.812470Z",
          "shell.execute_reply": "2023-08-17T05:35:43.811388Z"
        },
        "papermill": {
          "duration": 0.733961,
          "end_time": "2023-08-17T05:35:43.814755",
          "exception": false,
          "start_time": "2023-08-17T05:35:43.080794",
          "status": "completed"
        },
        "tags": [],
        "id": "116f770c",
        "outputId": "60ccc615-7855-4a85-e10d-46fb82d1a8df"
      },
      "outputs": [
        {
          "data": {
            "text/html": [
              "<div>\n",
              "<style scoped>\n",
              "    .dataframe tbody tr th:only-of-type {\n",
              "        vertical-align: middle;\n",
              "    }\n",
              "\n",
              "    .dataframe tbody tr th {\n",
              "        vertical-align: top;\n",
              "    }\n",
              "\n",
              "    .dataframe thead th {\n",
              "        text-align: right;\n",
              "    }\n",
              "</style>\n",
              "<table border=\"1\" class=\"dataframe\">\n",
              "  <thead>\n",
              "    <tr style=\"text-align: right;\">\n",
              "      <th></th>\n",
              "      <th>Id</th>\n",
              "      <th>Income</th>\n",
              "      <th>Age</th>\n",
              "      <th>Experience</th>\n",
              "      <th>Married/Single</th>\n",
              "      <th>House_Ownership</th>\n",
              "      <th>Car_Ownership</th>\n",
              "      <th>Profession</th>\n",
              "      <th>CITY</th>\n",
              "      <th>STATE</th>\n",
              "      <th>CURRENT_JOB_YRS</th>\n",
              "      <th>CURRENT_HOUSE_YRS</th>\n",
              "      <th>Risk_Flag</th>\n",
              "    </tr>\n",
              "  </thead>\n",
              "  <tbody>\n",
              "    <tr>\n",
              "      <th>0</th>\n",
              "      <td>1</td>\n",
              "      <td>1303834</td>\n",
              "      <td>23</td>\n",
              "      <td>3</td>\n",
              "      <td>single</td>\n",
              "      <td>rented</td>\n",
              "      <td>no</td>\n",
              "      <td>Mechanical_engineer</td>\n",
              "      <td>Rewa</td>\n",
              "      <td>Madhya_Pradesh</td>\n",
              "      <td>3</td>\n",
              "      <td>13</td>\n",
              "      <td>0</td>\n",
              "    </tr>\n",
              "    <tr>\n",
              "      <th>1</th>\n",
              "      <td>2</td>\n",
              "      <td>7574516</td>\n",
              "      <td>40</td>\n",
              "      <td>10</td>\n",
              "      <td>single</td>\n",
              "      <td>rented</td>\n",
              "      <td>no</td>\n",
              "      <td>Software_Developer</td>\n",
              "      <td>Parbhani</td>\n",
              "      <td>Maharashtra</td>\n",
              "      <td>9</td>\n",
              "      <td>13</td>\n",
              "      <td>0</td>\n",
              "    </tr>\n",
              "    <tr>\n",
              "      <th>2</th>\n",
              "      <td>3</td>\n",
              "      <td>3991815</td>\n",
              "      <td>66</td>\n",
              "      <td>4</td>\n",
              "      <td>married</td>\n",
              "      <td>rented</td>\n",
              "      <td>no</td>\n",
              "      <td>Technical_writer</td>\n",
              "      <td>Alappuzha</td>\n",
              "      <td>Kerala</td>\n",
              "      <td>4</td>\n",
              "      <td>10</td>\n",
              "      <td>0</td>\n",
              "    </tr>\n",
              "    <tr>\n",
              "      <th>3</th>\n",
              "      <td>4</td>\n",
              "      <td>6256451</td>\n",
              "      <td>41</td>\n",
              "      <td>2</td>\n",
              "      <td>single</td>\n",
              "      <td>rented</td>\n",
              "      <td>yes</td>\n",
              "      <td>Software_Developer</td>\n",
              "      <td>Bhubaneswar</td>\n",
              "      <td>Odisha</td>\n",
              "      <td>2</td>\n",
              "      <td>12</td>\n",
              "      <td>1</td>\n",
              "    </tr>\n",
              "    <tr>\n",
              "      <th>4</th>\n",
              "      <td>5</td>\n",
              "      <td>5768871</td>\n",
              "      <td>47</td>\n",
              "      <td>11</td>\n",
              "      <td>single</td>\n",
              "      <td>rented</td>\n",
              "      <td>no</td>\n",
              "      <td>Civil_servant</td>\n",
              "      <td>Tiruchirappalli[10]</td>\n",
              "      <td>Tamil_Nadu</td>\n",
              "      <td>3</td>\n",
              "      <td>14</td>\n",
              "      <td>1</td>\n",
              "    </tr>\n",
              "  </tbody>\n",
              "</table>\n",
              "</div>"
            ],
            "text/plain": [
              "   Id   Income  Age  Experience Married/Single House_Ownership Car_Ownership  \\\n",
              "0   1  1303834   23           3         single          rented            no   \n",
              "1   2  7574516   40          10         single          rented            no   \n",
              "2   3  3991815   66           4        married          rented            no   \n",
              "3   4  6256451   41           2         single          rented           yes   \n",
              "4   5  5768871   47          11         single          rented            no   \n",
              "\n",
              "            Profession                 CITY           STATE  CURRENT_JOB_YRS  \\\n",
              "0  Mechanical_engineer                 Rewa  Madhya_Pradesh                3   \n",
              "1   Software_Developer             Parbhani     Maharashtra                9   \n",
              "2     Technical_writer            Alappuzha          Kerala                4   \n",
              "3   Software_Developer          Bhubaneswar          Odisha                2   \n",
              "4        Civil_servant  Tiruchirappalli[10]      Tamil_Nadu                3   \n",
              "\n",
              "   CURRENT_HOUSE_YRS  Risk_Flag  \n",
              "0                 13          0  \n",
              "1                 13          0  \n",
              "2                 10          0  \n",
              "3                 12          1  \n",
              "4                 14          1  "
            ]
          },
          "execution_count": 2,
          "metadata": {},
          "output_type": "execute_result"
        }
      ],
      "source": [
        "df=pd.read_csv(\"Loan Prediction.csv\")\n",
        "df.head()"
      ]
    },
    {
      "cell_type": "code",
      "execution_count": null,
      "id": "832bffd0",
      "metadata": {
        "id": "832bffd0",
        "outputId": "6a47e2ac-4156-443e-af6a-e2281304a2fb"
      },
      "outputs": [
        {
          "name": "stdout",
          "output_type": "stream",
          "text": [
            "<class 'pandas.core.frame.DataFrame'>\n",
            "RangeIndex: 252000 entries, 0 to 251999\n",
            "Data columns (total 13 columns):\n",
            " #   Column             Non-Null Count   Dtype \n",
            "---  ------             --------------   ----- \n",
            " 0   Id                 252000 non-null  int64 \n",
            " 1   Income             252000 non-null  int64 \n",
            " 2   Age                252000 non-null  int64 \n",
            " 3   Experience         252000 non-null  int64 \n",
            " 4   Married/Single     252000 non-null  object\n",
            " 5   House_Ownership    252000 non-null  object\n",
            " 6   Car_Ownership      252000 non-null  object\n",
            " 7   Profession         252000 non-null  object\n",
            " 8   CITY               252000 non-null  object\n",
            " 9   STATE              252000 non-null  object\n",
            " 10  CURRENT_JOB_YRS    252000 non-null  int64 \n",
            " 11  CURRENT_HOUSE_YRS  252000 non-null  int64 \n",
            " 12  Risk_Flag          252000 non-null  int64 \n",
            "dtypes: int64(7), object(6)\n",
            "memory usage: 25.0+ MB\n"
          ]
        }
      ],
      "source": [
        "df.info()"
      ]
    },
    {
      "cell_type": "code",
      "execution_count": null,
      "id": "30b354e7",
      "metadata": {
        "id": "30b354e7",
        "outputId": "e2141a3e-7e28-4942-c741-371c99027f43"
      },
      "outputs": [
        {
          "data": {
            "text/plain": [
              "Id                   0\n",
              "Income               0\n",
              "Age                  0\n",
              "Experience           0\n",
              "Married/Single       0\n",
              "House_Ownership      0\n",
              "Car_Ownership        0\n",
              "Profession           0\n",
              "CITY                 0\n",
              "STATE                0\n",
              "CURRENT_JOB_YRS      0\n",
              "CURRENT_HOUSE_YRS    0\n",
              "Risk_Flag            0\n",
              "dtype: int64"
            ]
          },
          "execution_count": 4,
          "metadata": {},
          "output_type": "execute_result"
        }
      ],
      "source": [
        "df.isnull().sum()"
      ]
    },
    {
      "cell_type": "code",
      "execution_count": null,
      "id": "d35fffd6",
      "metadata": {
        "id": "d35fffd6",
        "outputId": "e62e0c02-3fc9-4220-9430-7bfd42554f40"
      },
      "outputs": [
        {
          "data": {
            "text/html": [
              "<div>\n",
              "<style scoped>\n",
              "    .dataframe tbody tr th:only-of-type {\n",
              "        vertical-align: middle;\n",
              "    }\n",
              "\n",
              "    .dataframe tbody tr th {\n",
              "        vertical-align: top;\n",
              "    }\n",
              "\n",
              "    .dataframe thead th {\n",
              "        text-align: right;\n",
              "    }\n",
              "</style>\n",
              "<table border=\"1\" class=\"dataframe\">\n",
              "  <thead>\n",
              "    <tr style=\"text-align: right;\">\n",
              "      <th></th>\n",
              "      <th>Id</th>\n",
              "      <th>Income</th>\n",
              "      <th>Age</th>\n",
              "      <th>Experience</th>\n",
              "      <th>CURRENT_JOB_YRS</th>\n",
              "      <th>CURRENT_HOUSE_YRS</th>\n",
              "      <th>Risk_Flag</th>\n",
              "    </tr>\n",
              "  </thead>\n",
              "  <tbody>\n",
              "    <tr>\n",
              "      <th>count</th>\n",
              "      <td>252000.000000</td>\n",
              "      <td>2.520000e+05</td>\n",
              "      <td>252000.000000</td>\n",
              "      <td>252000.000000</td>\n",
              "      <td>252000.000000</td>\n",
              "      <td>252000.000000</td>\n",
              "      <td>252000.000000</td>\n",
              "    </tr>\n",
              "    <tr>\n",
              "      <th>mean</th>\n",
              "      <td>126000.500000</td>\n",
              "      <td>4.997117e+06</td>\n",
              "      <td>49.954071</td>\n",
              "      <td>10.084437</td>\n",
              "      <td>6.333877</td>\n",
              "      <td>11.997794</td>\n",
              "      <td>0.123000</td>\n",
              "    </tr>\n",
              "    <tr>\n",
              "      <th>std</th>\n",
              "      <td>72746.278255</td>\n",
              "      <td>2.878311e+06</td>\n",
              "      <td>17.063855</td>\n",
              "      <td>6.002590</td>\n",
              "      <td>3.647053</td>\n",
              "      <td>1.399037</td>\n",
              "      <td>0.328438</td>\n",
              "    </tr>\n",
              "    <tr>\n",
              "      <th>min</th>\n",
              "      <td>1.000000</td>\n",
              "      <td>1.031000e+04</td>\n",
              "      <td>21.000000</td>\n",
              "      <td>0.000000</td>\n",
              "      <td>0.000000</td>\n",
              "      <td>10.000000</td>\n",
              "      <td>0.000000</td>\n",
              "    </tr>\n",
              "    <tr>\n",
              "      <th>25%</th>\n",
              "      <td>63000.750000</td>\n",
              "      <td>2.503015e+06</td>\n",
              "      <td>35.000000</td>\n",
              "      <td>5.000000</td>\n",
              "      <td>3.000000</td>\n",
              "      <td>11.000000</td>\n",
              "      <td>0.000000</td>\n",
              "    </tr>\n",
              "    <tr>\n",
              "      <th>50%</th>\n",
              "      <td>126000.500000</td>\n",
              "      <td>5.000694e+06</td>\n",
              "      <td>50.000000</td>\n",
              "      <td>10.000000</td>\n",
              "      <td>6.000000</td>\n",
              "      <td>12.000000</td>\n",
              "      <td>0.000000</td>\n",
              "    </tr>\n",
              "    <tr>\n",
              "      <th>75%</th>\n",
              "      <td>189000.250000</td>\n",
              "      <td>7.477502e+06</td>\n",
              "      <td>65.000000</td>\n",
              "      <td>15.000000</td>\n",
              "      <td>9.000000</td>\n",
              "      <td>13.000000</td>\n",
              "      <td>0.000000</td>\n",
              "    </tr>\n",
              "    <tr>\n",
              "      <th>max</th>\n",
              "      <td>252000.000000</td>\n",
              "      <td>9.999938e+06</td>\n",
              "      <td>79.000000</td>\n",
              "      <td>20.000000</td>\n",
              "      <td>14.000000</td>\n",
              "      <td>14.000000</td>\n",
              "      <td>1.000000</td>\n",
              "    </tr>\n",
              "  </tbody>\n",
              "</table>\n",
              "</div>"
            ],
            "text/plain": [
              "                  Id        Income            Age     Experience  \\\n",
              "count  252000.000000  2.520000e+05  252000.000000  252000.000000   \n",
              "mean   126000.500000  4.997117e+06      49.954071      10.084437   \n",
              "std     72746.278255  2.878311e+06      17.063855       6.002590   \n",
              "min         1.000000  1.031000e+04      21.000000       0.000000   \n",
              "25%     63000.750000  2.503015e+06      35.000000       5.000000   \n",
              "50%    126000.500000  5.000694e+06      50.000000      10.000000   \n",
              "75%    189000.250000  7.477502e+06      65.000000      15.000000   \n",
              "max    252000.000000  9.999938e+06      79.000000      20.000000   \n",
              "\n",
              "       CURRENT_JOB_YRS  CURRENT_HOUSE_YRS      Risk_Flag  \n",
              "count    252000.000000      252000.000000  252000.000000  \n",
              "mean          6.333877          11.997794       0.123000  \n",
              "std           3.647053           1.399037       0.328438  \n",
              "min           0.000000          10.000000       0.000000  \n",
              "25%           3.000000          11.000000       0.000000  \n",
              "50%           6.000000          12.000000       0.000000  \n",
              "75%           9.000000          13.000000       0.000000  \n",
              "max          14.000000          14.000000       1.000000  "
            ]
          },
          "execution_count": 5,
          "metadata": {},
          "output_type": "execute_result"
        }
      ],
      "source": [
        "df.describe()"
      ]
    },
    {
      "cell_type": "code",
      "execution_count": null,
      "id": "646398b9",
      "metadata": {
        "execution": {
          "iopub.execute_input": "2023-08-17T05:35:43.844315Z",
          "iopub.status.busy": "2023-08-17T05:35:43.843433Z",
          "iopub.status.idle": "2023-08-17T05:35:43.850662Z",
          "shell.execute_reply": "2023-08-17T05:35:43.849700Z"
        },
        "papermill": {
          "duration": 0.017088,
          "end_time": "2023-08-17T05:35:43.852630",
          "exception": false,
          "start_time": "2023-08-17T05:35:43.835542",
          "status": "completed"
        },
        "tags": [],
        "id": "646398b9",
        "outputId": "5a1c6845-3178-42d8-a6cf-67a8f000b53a"
      },
      "outputs": [
        {
          "data": {
            "text/plain": [
              "Index(['id', 'income', 'age', 'experience', 'married/single',\n",
              "       'house_ownership', 'car_ownership', 'profession', 'city', 'state',\n",
              "       'current_job_yrs', 'current_house_yrs', 'risk_flag'],\n",
              "      dtype='object')"
            ]
          },
          "execution_count": 6,
          "metadata": {},
          "output_type": "execute_result"
        }
      ],
      "source": [
        "df.columns = df.columns.str.lower()\n",
        "df.columns"
      ]
    },
    {
      "cell_type": "code",
      "execution_count": null,
      "id": "d789f2ea",
      "metadata": {
        "execution": {
          "iopub.execute_input": "2023-08-17T05:35:43.869039Z",
          "iopub.status.busy": "2023-08-17T05:35:43.867578Z",
          "iopub.status.idle": "2023-08-17T05:35:43.881921Z",
          "shell.execute_reply": "2023-08-17T05:35:43.880930Z"
        },
        "papermill": {
          "duration": 0.024193,
          "end_time": "2023-08-17T05:35:43.883972",
          "exception": false,
          "start_time": "2023-08-17T05:35:43.859779",
          "status": "completed"
        },
        "tags": [],
        "id": "d789f2ea"
      },
      "outputs": [],
      "source": [
        "df=df.rename(columns={\"married/single\":\"married_single\",})"
      ]
    },
    {
      "cell_type": "code",
      "execution_count": null,
      "id": "f28205c9",
      "metadata": {
        "execution": {
          "iopub.execute_input": "2023-08-17T05:35:43.899181Z",
          "iopub.status.busy": "2023-08-17T05:35:43.898918Z",
          "iopub.status.idle": "2023-08-17T05:35:43.933868Z",
          "shell.execute_reply": "2023-08-17T05:35:43.932878Z"
        },
        "papermill": {
          "duration": 0.045069,
          "end_time": "2023-08-17T05:35:43.936000",
          "exception": false,
          "start_time": "2023-08-17T05:35:43.890931",
          "status": "completed"
        },
        "tags": [],
        "id": "f28205c9"
      },
      "outputs": [],
      "source": [
        "df=df.drop(columns=[\"id\"])"
      ]
    },
    {
      "cell_type": "code",
      "execution_count": null,
      "id": "e0798f57",
      "metadata": {
        "execution": {
          "iopub.execute_input": "2023-08-17T05:35:43.952028Z",
          "iopub.status.busy": "2023-08-17T05:35:43.951721Z",
          "iopub.status.idle": "2023-08-17T05:35:43.986466Z",
          "shell.execute_reply": "2023-08-17T05:35:43.985367Z"
        },
        "papermill": {
          "duration": 0.045365,
          "end_time": "2023-08-17T05:35:43.988709",
          "exception": false,
          "start_time": "2023-08-17T05:35:43.943344",
          "status": "completed"
        },
        "tags": [],
        "id": "e0798f57",
        "outputId": "7721f679-5b86-4eb9-bf53-6674d33b460a"
      },
      "outputs": [
        {
          "data": {
            "text/plain": [
              "array(['Rewa', 'Parbhani', 'Alappuzha', 'Bhubaneswar',\n",
              "       'Tiruchirappalli[10]', 'Jalgaon', 'Tiruppur', 'Jamnagar',\n",
              "       'Kota[6]', 'Karimnagar', 'Hajipur[31]', 'Adoni', 'Erode[17]',\n",
              "       'Kollam', 'Madurai', 'Anantapuram[24]', 'Kamarhati', 'Bhusawal',\n",
              "       'Sirsa', 'Amaravati', 'Secunderabad', 'Ahmedabad', 'Ajmer',\n",
              "       'Ongole', 'Miryalaguda', 'Ambattur', 'Indore', 'Pondicherry',\n",
              "       'Shimoga', 'Chennai', 'Gulbarga', 'Khammam', 'Saharanpur',\n",
              "       'Gopalpur', 'Amravati', 'Udupi', 'Howrah', 'Aurangabad[39]',\n",
              "       'Hospet', 'Shimla', 'Khandwa', 'Bidhannagar', 'Bellary', 'Danapur',\n",
              "       'Purnia[26]', 'Bijapur', 'Patiala', 'Malda', 'Sagar', 'Durgapur',\n",
              "       'Junagadh', 'Singrauli', 'Agartala', 'Thanjavur', 'Hindupur',\n",
              "       'Naihati', 'North_Dumdum', 'Panchkula', 'Anantapur', 'Serampore',\n",
              "       'Bathinda', 'Nadiad', 'Kanpur', 'Haridwar', 'Berhampur',\n",
              "       'Jamshedpur', 'Hyderabad', 'Bidar', 'Kottayam', 'Solapur',\n",
              "       'Suryapet', 'Aizawl', 'Asansol', 'Deoghar', 'Eluru[25]',\n",
              "       'Ulhasnagar', 'Aligarh', 'South_Dumdum', 'Berhampore',\n",
              "       'Gandhinagar', 'Sonipat', 'Muzaffarpur', 'Raichur',\n",
              "       'Rajpur_Sonarpur', 'Ambarnath', 'Katihar', 'Kozhikode', 'Vellore',\n",
              "       'Malegaon', 'Kochi', 'Nagaon', 'Nagpur', 'Srinagar', 'Davanagere',\n",
              "       'Bhagalpur', 'Siwan[32]', 'Meerut', 'Dindigul', 'Bhatpara',\n",
              "       'Ghaziabad', 'Kulti', 'Chapra', 'Dibrugarh', 'Panihati',\n",
              "       'Bhiwandi', 'Morbi', 'Kalyan-Dombivli', 'Gorakhpur', 'Panvel',\n",
              "       'Siliguri', 'Bongaigaon', 'Patna', 'Ramgarh', 'Ozhukarai',\n",
              "       'Mirzapur', 'Akola', 'Satna', 'Motihari[34]', 'Jalna', 'Jalandhar',\n",
              "       'Unnao', 'Karnal', 'Cuttack', 'Proddatur', 'Ichalkaranji',\n",
              "       'Warangal[11][12]', 'Jhansi', 'Bulandshahr', 'Narasaraopet',\n",
              "       'Chinsurah', 'Jehanabad[38]', 'Dhanbad', 'Gudivada', 'Gandhidham',\n",
              "       'Raiganj', 'Kishanganj[35]', 'Varanasi', 'Belgaum',\n",
              "       'Tirupati[21][22]', 'Tumkur', 'Coimbatore', 'Kurnool[18]',\n",
              "       'Gurgaon', 'Muzaffarnagar', 'Aurangabad', 'Bhavnagar', 'Arrah',\n",
              "       'Munger', 'Tirunelveli', 'Mumbai', 'Mango', 'Nashik', 'Kadapa[23]',\n",
              "       'Amritsar', 'Khora,_Ghaziabad', 'Ambala', 'Agra', 'Ratlam',\n",
              "       'Surendranagar_Dudhrej', 'Delhi_city', 'Bhopal', 'Hapur', 'Rohtak',\n",
              "       'Durg', 'Korba', 'Bangalore', 'Shivpuri', 'Thrissur',\n",
              "       'Vijayanagaram', 'Farrukhabad', 'Nangloi_Jat', 'Madanapalle',\n",
              "       'Thoothukudi', 'Nagercoil', 'Gaya', 'Chandigarh_city', 'Jammu[16]',\n",
              "       'Kakinada', 'Dewas', 'Bhalswa_Jahangir_Pur', 'Baranagar',\n",
              "       'Firozabad', 'Phusro', 'Allahabad', 'Guna', 'Thane', 'Etawah',\n",
              "       'Vasai-Virar', 'Pallavaram', 'Morena', 'Ballia', 'Surat',\n",
              "       'Burhanpur', 'Phagwara', 'Mau', 'Mangalore', 'Alwar',\n",
              "       'Mahbubnagar', 'Maheshtala', 'Hazaribagh', 'Bihar_Sharif',\n",
              "       'Faridabad', 'Lucknow', 'Tenali', 'Barasat', 'Amroha', 'Giridih',\n",
              "       'Begusarai', 'Medininagar', 'Rajahmundry[19][20]', 'Saharsa[29]',\n",
              "       'New_Delhi', 'Bhilai', 'Moradabad', 'Machilipatnam',\n",
              "       'Mira-Bhayandar', 'Pali', 'Navi_Mumbai', 'Mehsana', 'Imphal',\n",
              "       'Kolkata', 'Sambalpur', 'Ujjain', 'Madhyamgram', 'Jabalpur',\n",
              "       'Jamalpur[36]', 'Ludhiana', 'Bareilly', 'Gangtok', 'Anand',\n",
              "       'Dehradun', 'Pune', 'Satara', 'Srikakulam', 'Raipur', 'Jodhpur',\n",
              "       'Darbhanga', 'Nizamabad', 'Nandyal', 'Dehri[30]', 'Jorhat',\n",
              "       'Ranchi', 'Kumbakonam', 'Guntakal', 'Haldia', 'Loni',\n",
              "       'Pimpri-Chinchwad', 'Rajkot', 'Nanded', 'Noida',\n",
              "       'Kirari_Suleman_Nagar', 'Jaunpur', 'Bilaspur', 'Sambhal', 'Dhule',\n",
              "       'Rourkela', 'Thiruvananthapuram', 'Dharmavaram', 'Nellore[14][15]',\n",
              "       'Visakhapatnam[4]', 'Karawal_Nagar', 'Jaipur', 'Avadi',\n",
              "       'Bhimavaram', 'Bardhaman', 'Silchar', 'Buxar[37]', 'Kavali',\n",
              "       'Tezpur', 'Ramagundam[27]', 'Yamunanagar', 'Sri_Ganganagar',\n",
              "       'Sasaram[30]', 'Sikar', 'Bally', 'Bhiwani', 'Rampur', 'Uluberia',\n",
              "       'Sangli-Miraj_&_Kupwad', 'Hosur', 'Bikaner', 'Shahjahanpur',\n",
              "       'Sultan_Pur_Majra', 'Vijayawada', 'Bharatpur', 'Tadepalligudem',\n",
              "       'Tinsukia', 'Salem', 'Mathura', 'Guntur[13]', 'Hubliâ€“Dharwad',\n",
              "       'Guwahati', 'Chittoor[28]', 'Tiruvottiyur', 'Vadodara',\n",
              "       'Ahmednagar', 'Fatehpur', 'Bhilwara', 'Kharagpur', 'Bettiah[33]',\n",
              "       'Bhind', 'Bokaro', 'Karaikudi', 'Raebareli', 'Pudukkottai',\n",
              "       'Udaipur', 'Mysore[7][8][9]', 'Panipat', 'Latur', 'Tadipatri',\n",
              "       'Bahraich', 'Orai', 'Raurkela_Industrial_Township', 'Gwalior',\n",
              "       'Katni', 'Chandrapur', 'Kolhapur'], dtype=object)"
            ]
          },
          "execution_count": 9,
          "metadata": {},
          "output_type": "execute_result"
        }
      ],
      "source": [
        "df[\"city\"].unique()"
      ]
    },
    {
      "cell_type": "code",
      "execution_count": null,
      "id": "b393a2e4",
      "metadata": {
        "execution": {
          "iopub.execute_input": "2023-08-17T05:35:44.005623Z",
          "iopub.status.busy": "2023-08-17T05:35:44.004215Z",
          "iopub.status.idle": "2023-08-17T05:35:44.033560Z",
          "shell.execute_reply": "2023-08-17T05:35:44.032716Z"
        },
        "papermill": {
          "duration": 0.039459,
          "end_time": "2023-08-17T05:35:44.035368",
          "exception": false,
          "start_time": "2023-08-17T05:35:43.995909",
          "status": "completed"
        },
        "tags": [],
        "id": "b393a2e4",
        "outputId": "a253d4e2-62c6-4f44-ce0e-d48dff94d1f9"
      },
      "outputs": [
        {
          "data": {
            "text/plain": [
              "array(['Madhya_Pradesh', 'Maharashtra', 'Kerala', 'Odisha', 'Tamil_Nadu',\n",
              "       'Gujarat', 'Rajasthan', 'Telangana', 'Bihar', 'Andhra_Pradesh',\n",
              "       'West_Bengal', 'Haryana', 'Puducherry', 'Karnataka',\n",
              "       'Uttar_Pradesh', 'Himachal_Pradesh', 'Punjab', 'Tripura',\n",
              "       'Uttarakhand', 'Jharkhand', 'Mizoram', 'Assam',\n",
              "       'Jammu_and_Kashmir', 'Delhi', 'Chhattisgarh', 'Chandigarh',\n",
              "       'Uttar_Pradesh[5]', 'Manipur', 'Sikkim'], dtype=object)"
            ]
          },
          "execution_count": 10,
          "metadata": {},
          "output_type": "execute_result"
        }
      ],
      "source": [
        "df['state'].unique()"
      ]
    },
    {
      "cell_type": "code",
      "execution_count": null,
      "id": "d56c6da7",
      "metadata": {
        "execution": {
          "iopub.execute_input": "2023-08-17T05:35:44.052624Z",
          "iopub.status.busy": "2023-08-17T05:35:44.051220Z",
          "iopub.status.idle": "2023-08-17T05:35:45.428019Z",
          "shell.execute_reply": "2023-08-17T05:35:45.427028Z"
        },
        "papermill": {
          "duration": 1.387463,
          "end_time": "2023-08-17T05:35:45.430341",
          "exception": false,
          "start_time": "2023-08-17T05:35:44.042878",
          "status": "completed"
        },
        "tags": [],
        "id": "d56c6da7"
      },
      "outputs": [],
      "source": [
        "df.city = df.city.str.extract(\"([A-Za-z]+)\")\n",
        "df.state = df.state.str.extract(\"([A-Za-z]+)\")"
      ]
    },
    {
      "cell_type": "code",
      "execution_count": null,
      "id": "64fbe15e",
      "metadata": {
        "execution": {
          "iopub.execute_input": "2023-08-17T05:35:45.447208Z",
          "iopub.status.busy": "2023-08-17T05:35:45.446905Z",
          "iopub.status.idle": "2023-08-17T05:35:45.914407Z",
          "shell.execute_reply": "2023-08-17T05:35:45.913366Z"
        },
        "papermill": {
          "duration": 0.479099,
          "end_time": "2023-08-17T05:35:45.917136",
          "exception": false,
          "start_time": "2023-08-17T05:35:45.438037",
          "status": "completed"
        },
        "tags": [],
        "id": "64fbe15e"
      },
      "outputs": [],
      "source": [
        "en = LabelEncoder()\n",
        "catCols = ['married_single','house_ownership','car_ownership','profession','state','city']\n",
        "for cols in catCols:\n",
        "    df[cols] = en.fit_transform(df[cols])"
      ]
    },
    {
      "cell_type": "code",
      "execution_count": null,
      "id": "9c37cba5",
      "metadata": {
        "id": "9c37cba5",
        "outputId": "474c0777-939a-46d6-b2e9-86ddd00c8303"
      },
      "outputs": [
        {
          "data": {
            "text/plain": [
              "array([[<Axes: title={'center': 'income'}>,\n",
              "        <Axes: title={'center': 'age'}>,\n",
              "        <Axes: title={'center': 'experience'}>],\n",
              "       [<Axes: title={'center': 'married_single'}>,\n",
              "        <Axes: title={'center': 'house_ownership'}>,\n",
              "        <Axes: title={'center': 'car_ownership'}>],\n",
              "       [<Axes: title={'center': 'profession'}>,\n",
              "        <Axes: title={'center': 'city'}>,\n",
              "        <Axes: title={'center': 'state'}>],\n",
              "       [<Axes: title={'center': 'current_job_yrs'}>,\n",
              "        <Axes: title={'center': 'current_house_yrs'}>,\n",
              "        <Axes: title={'center': 'risk_flag'}>]], dtype=object)"
            ]
          },
          "execution_count": 13,
          "metadata": {},
          "output_type": "execute_result"
        },
        {
          "data": {
            "image/png": "[encoded data removed]",
            "text/plain": [
              "<Figure size 1000x1000 with 12 Axes>"
            ]
          },
          "metadata": {},
          "output_type": "display_data"
        }
      ],
      "source": [
        "df.hist(figsize=(10, 10))"
      ]
    },
    {
      "cell_type": "code",
      "execution_count": null,
      "id": "739cb597",
      "metadata": {
        "id": "739cb597",
        "outputId": "8a7dc75e-72fc-4f4e-a12f-d510f2be7b01"
      },
      "outputs": [
        {
          "data": {
            "text/plain": [
              "<Axes: xlabel='house_ownership'>"
            ]
          },
          "execution_count": 14,
          "metadata": {},
          "output_type": "execute_result"
        },
        {
          "data": {
            "image/png": "[encoded data removed]",
            "text/plain": [
              "<Figure size 640x480 with 1 Axes>"
            ]
          },
          "metadata": {},
          "output_type": "display_data"
        }
      ],
      "source": [
        "df['house_ownership'].value_counts().plot(kind='bar')"
      ]
    },
    {
      "cell_type": "code",
      "execution_count": null,
      "id": "6730d8cf",
      "metadata": {
        "execution": {
          "iopub.execute_input": "2023-08-17T05:35:45.950848Z",
          "iopub.status.busy": "2023-08-17T05:35:45.950014Z",
          "iopub.status.idle": "2023-08-17T05:35:46.229201Z",
          "shell.execute_reply": "2023-08-17T05:35:46.228307Z"
        },
        "papermill": {
          "duration": 0.290396,
          "end_time": "2023-08-17T05:35:46.231760",
          "exception": false,
          "start_time": "2023-08-17T05:35:45.941364",
          "status": "completed"
        },
        "tags": [],
        "id": "6730d8cf",
        "outputId": "6c0d2f5f-c2ad-4979-e5af-9ed4afefc64e"
      },
      "outputs": [
        {
          "data": {
            "text/plain": [
              "<Axes: xlabel='risk_flag'>"
            ]
          },
          "execution_count": 15,
          "metadata": {},
          "output_type": "execute_result"
        },
        {
          "data": {
            "image/png": "[encoded data removed]",
            "text/plain": [
              "<Figure size 640x480 with 1 Axes>"
            ]
          },
          "metadata": {},
          "output_type": "display_data"
        }
      ],
      "source": [
        "df[\"risk_flag\"].value_counts().plot(kind=\"bar\")"
      ]
    },
    {
      "cell_type": "code",
      "execution_count": null,
      "id": "f09336db",
      "metadata": {
        "execution": {
          "iopub.execute_input": "2023-08-17T05:35:46.250170Z",
          "iopub.status.busy": "2023-08-17T05:35:46.249878Z",
          "iopub.status.idle": "2023-08-17T05:35:46.264400Z",
          "shell.execute_reply": "2023-08-17T05:35:46.263533Z"
        },
        "papermill": {
          "duration": 0.025994,
          "end_time": "2023-08-17T05:35:46.266431",
          "exception": false,
          "start_time": "2023-08-17T05:35:46.240437",
          "status": "completed"
        },
        "tags": [],
        "id": "f09336db"
      },
      "outputs": [],
      "source": [
        "X = df.drop(\"risk_flag\",axis = 1)\n",
        "y = df[\"risk_flag\"]"
      ]
    },
    {
      "cell_type": "code",
      "execution_count": null,
      "id": "f95ab76e",
      "metadata": {
        "execution": {
          "iopub.execute_input": "2023-08-17T05:35:46.283281Z",
          "iopub.status.busy": "2023-08-17T05:35:46.282963Z",
          "iopub.status.idle": "2023-08-17T05:35:47.297530Z",
          "shell.execute_reply": "2023-08-17T05:35:47.296470Z"
        },
        "papermill": {
          "duration": 1.025645,
          "end_time": "2023-08-17T05:35:47.299959",
          "exception": false,
          "start_time": "2023-08-17T05:35:46.274314",
          "status": "completed"
        },
        "tags": [],
        "id": "f95ab76e"
      },
      "outputs": [],
      "source": [
        "from imblearn.over_sampling import RandomOverSampler\n",
        "sm = RandomOverSampler()\n",
        "X, y = sm.fit_resample(X, y)"
      ]
    },
    {
      "cell_type": "code",
      "execution_count": null,
      "id": "a3c0b9ed",
      "metadata": {
        "execution": {
          "iopub.execute_input": "2023-08-17T05:35:47.334113Z",
          "iopub.status.busy": "2023-08-17T05:35:47.333795Z",
          "iopub.status.idle": "2023-08-17T05:35:48.088299Z",
          "shell.execute_reply": "2023-08-17T05:35:48.087204Z"
        },
        "papermill": {
          "duration": 0.765892,
          "end_time": "2023-08-17T05:35:48.090486",
          "exception": false,
          "start_time": "2023-08-17T05:35:47.324594",
          "status": "completed"
        },
        "tags": [],
        "id": "a3c0b9ed",
        "outputId": "e239c3c0-703e-4272-e921-bb4c68c4345f"
      },
      "outputs": [
        {
          "data": {
            "image/png": "[encoded data removed]",
            "text/plain": [
              "<Figure size 640x480 with 1 Axes>"
            ]
          },
          "metadata": {},
          "output_type": "display_data"
        }
      ],
      "source": [
        "import matplotlib.pyplot as plt\n",
        "import seaborn as sns\n",
        "y = pd.Series(y)\n",
        "value_counts = y.value_counts()\n",
        "plt.bar(value_counts.index, value_counts.values)\n",
        "plt.xlabel('Classes')\n",
        "plt.ylabel('Count')\n",
        "plt.title('Distribution of Resampled \"y\" Data')\n",
        "\n",
        "# Display the plot\n",
        "plt.show()"
      ]
    },
    {
      "cell_type": "code",
      "execution_count": null,
      "id": "2a34a655",
      "metadata": {
        "execution": {
          "iopub.execute_input": "2023-08-17T05:35:48.109794Z",
          "iopub.status.busy": "2023-08-17T05:35:48.109456Z",
          "iopub.status.idle": "2023-08-17T05:35:48.211235Z",
          "shell.execute_reply": "2023-08-17T05:35:48.210288Z"
        },
        "papermill": {
          "duration": 0.114227,
          "end_time": "2023-08-17T05:35:48.213689",
          "exception": false,
          "start_time": "2023-08-17T05:35:48.099462",
          "status": "completed"
        },
        "tags": [],
        "id": "2a34a655"
      },
      "outputs": [],
      "source": [
        "X_train,X_test,y_train,y_test=train_test_split(X,y,test_size=0.1,random_state=4)"
      ]
    },
    {
      "cell_type": "code",
      "execution_count": null,
      "id": "e9c4d0b2",
      "metadata": {
        "execution": {
          "iopub.execute_input": "2023-08-17T05:35:48.233210Z",
          "iopub.status.busy": "2023-08-17T05:35:48.232914Z",
          "iopub.status.idle": "2023-08-17T05:35:48.304705Z",
          "shell.execute_reply": "2023-08-17T05:35:48.303706Z"
        },
        "papermill": {
          "duration": 0.083606,
          "end_time": "2023-08-17T05:35:48.307257",
          "exception": false,
          "start_time": "2023-08-17T05:35:48.223651",
          "status": "completed"
        },
        "tags": [],
        "id": "e9c4d0b2"
      },
      "outputs": [],
      "source": [
        "sc=StandardScaler()\n",
        "X_train=sc.fit_transform(X_train)\n",
        "X_test=sc.transform(X_test)"
      ]
    },
    {
      "cell_type": "code",
      "execution_count": null,
      "id": "2d6741a3",
      "metadata": {
        "execution": {
          "iopub.execute_input": "2023-08-17T05:35:48.326068Z",
          "iopub.status.busy": "2023-08-17T05:35:48.325764Z",
          "iopub.status.idle": "2023-08-17T05:35:48.330226Z",
          "shell.execute_reply": "2023-08-17T05:35:48.329182Z"
        },
        "papermill": {
          "duration": 0.016519,
          "end_time": "2023-08-17T05:35:48.332555",
          "exception": false,
          "start_time": "2023-08-17T05:35:48.316036",
          "status": "completed"
        },
        "tags": [],
        "id": "2d6741a3"
      },
      "outputs": [],
      "source": [
        "from sklearn.ensemble import ExtraTreesClassifier"
      ]
    },
    {
      "cell_type": "code",
      "execution_count": null,
      "id": "6c775a99",
      "metadata": {
        "execution": {
          "iopub.execute_input": "2023-08-17T05:35:48.367766Z",
          "iopub.status.busy": "2023-08-17T05:35:48.367019Z",
          "iopub.status.idle": "2023-08-17T05:35:48.371424Z",
          "shell.execute_reply": "2023-08-17T05:35:48.370430Z"
        },
        "papermill": {
          "duration": 0.01584,
          "end_time": "2023-08-17T05:35:48.373510",
          "exception": false,
          "start_time": "2023-08-17T05:35:48.357670",
          "status": "completed"
        },
        "tags": [],
        "id": "6c775a99"
      },
      "outputs": [],
      "source": [
        "etc = ExtraTreesClassifier(n_estimators=200)"
      ]
    },
    {
      "cell_type": "code",
      "execution_count": null,
      "id": "984ce9bd",
      "metadata": {
        "execution": {
          "iopub.execute_input": "2023-08-17T05:35:48.392452Z",
          "iopub.status.busy": "2023-08-17T05:35:48.391687Z",
          "iopub.status.idle": "2023-08-17T05:37:21.911270Z",
          "shell.execute_reply": "2023-08-17T05:37:21.910222Z"
        },
        "papermill": {
          "duration": 93.539536,
          "end_time": "2023-08-17T05:37:21.921734",
          "exception": false,
          "start_time": "2023-08-17T05:35:48.382198",
          "status": "completed"
        },
        "tags": [],
        "id": "984ce9bd",
        "outputId": "619e4a16-02b2-48b7-dbac-9b32993d7635"
      },
      "outputs": [
        {
          "data": {
            "text/plain": [
              "0.9569240514920477"
            ]
          },
          "execution_count": 23,
          "metadata": {},
          "output_type": "execute_result"
        }
      ],
      "source": [
        "etc.fit(X_train,y_train)\n",
        "y_pred=etc.predict(X_test)\n",
        "accuracy_score(y_test,y_pred)"
      ]
    },
    {
      "cell_type": "code",
      "execution_count": null,
      "id": "0771de94",
      "metadata": {
        "execution": {
          "iopub.execute_input": "2023-08-17T05:37:21.940525Z",
          "iopub.status.busy": "2023-08-17T05:37:21.939948Z",
          "iopub.status.idle": "2023-08-17T05:37:21.952568Z",
          "shell.execute_reply": "2023-08-17T05:37:21.951352Z"
        },
        "papermill": {
          "duration": 0.024371,
          "end_time": "2023-08-17T05:37:21.955058",
          "exception": false,
          "start_time": "2023-08-17T05:37:21.930687",
          "status": "completed"
        },
        "tags": [],
        "id": "0771de94",
        "outputId": "57d3278a-d36b-4280-ffb2-7420ecf74157"
      },
      "outputs": [
        {
          "data": {
            "text/html": [
              "<div>\n",
              "<style scoped>\n",
              "    .dataframe tbody tr th:only-of-type {\n",
              "        vertical-align: middle;\n",
              "    }\n",
              "\n",
              "    .dataframe tbody tr th {\n",
              "        vertical-align: top;\n",
              "    }\n",
              "\n",
              "    .dataframe thead th {\n",
              "        text-align: right;\n",
              "    }\n",
              "</style>\n",
              "<table border=\"1\" class=\"dataframe\">\n",
              "  <thead>\n",
              "    <tr style=\"text-align: right;\">\n",
              "      <th></th>\n",
              "      <th>actual value</th>\n",
              "      <th>predictive value</th>\n",
              "    </tr>\n",
              "  </thead>\n",
              "  <tbody>\n",
              "    <tr>\n",
              "      <th>3088</th>\n",
              "      <td>0</td>\n",
              "      <td>0</td>\n",
              "    </tr>\n",
              "    <tr>\n",
              "      <th>315467</th>\n",
              "      <td>1</td>\n",
              "      <td>1</td>\n",
              "    </tr>\n",
              "    <tr>\n",
              "      <th>232032</th>\n",
              "      <td>0</td>\n",
              "      <td>0</td>\n",
              "    </tr>\n",
              "    <tr>\n",
              "      <th>381073</th>\n",
              "      <td>1</td>\n",
              "      <td>1</td>\n",
              "    </tr>\n",
              "    <tr>\n",
              "      <th>753</th>\n",
              "      <td>0</td>\n",
              "      <td>0</td>\n",
              "    </tr>\n",
              "    <tr>\n",
              "      <th>177574</th>\n",
              "      <td>0</td>\n",
              "      <td>0</td>\n",
              "    </tr>\n",
              "    <tr>\n",
              "      <th>208066</th>\n",
              "      <td>0</td>\n",
              "      <td>0</td>\n",
              "    </tr>\n",
              "    <tr>\n",
              "      <th>44872</th>\n",
              "      <td>0</td>\n",
              "      <td>0</td>\n",
              "    </tr>\n",
              "    <tr>\n",
              "      <th>370437</th>\n",
              "      <td>1</td>\n",
              "      <td>1</td>\n",
              "    </tr>\n",
              "    <tr>\n",
              "      <th>298108</th>\n",
              "      <td>1</td>\n",
              "      <td>1</td>\n",
              "    </tr>\n",
              "    <tr>\n",
              "      <th>173794</th>\n",
              "      <td>0</td>\n",
              "      <td>0</td>\n",
              "    </tr>\n",
              "    <tr>\n",
              "      <th>364708</th>\n",
              "      <td>1</td>\n",
              "      <td>1</td>\n",
              "    </tr>\n",
              "    <tr>\n",
              "      <th>179452</th>\n",
              "      <td>1</td>\n",
              "      <td>1</td>\n",
              "    </tr>\n",
              "    <tr>\n",
              "      <th>87656</th>\n",
              "      <td>1</td>\n",
              "      <td>1</td>\n",
              "    </tr>\n",
              "    <tr>\n",
              "      <th>102829</th>\n",
              "      <td>0</td>\n",
              "      <td>0</td>\n",
              "    </tr>\n",
              "    <tr>\n",
              "      <th>241982</th>\n",
              "      <td>0</td>\n",
              "      <td>0</td>\n",
              "    </tr>\n",
              "    <tr>\n",
              "      <th>218042</th>\n",
              "      <td>0</td>\n",
              "      <td>0</td>\n",
              "    </tr>\n",
              "    <tr>\n",
              "      <th>141490</th>\n",
              "      <td>0</td>\n",
              "      <td>0</td>\n",
              "    </tr>\n",
              "    <tr>\n",
              "      <th>302852</th>\n",
              "      <td>1</td>\n",
              "      <td>1</td>\n",
              "    </tr>\n",
              "    <tr>\n",
              "      <th>220813</th>\n",
              "      <td>0</td>\n",
              "      <td>0</td>\n",
              "    </tr>\n",
              "  </tbody>\n",
              "</table>\n",
              "</div>"
            ],
            "text/plain": [
              "        actual value  predictive value\n",
              "3088               0                 0\n",
              "315467             1                 1\n",
              "232032             0                 0\n",
              "381073             1                 1\n",
              "753                0                 0\n",
              "177574             0                 0\n",
              "208066             0                 0\n",
              "44872              0                 0\n",
              "370437             1                 1\n",
              "298108             1                 1\n",
              "173794             0                 0\n",
              "364708             1                 1\n",
              "179452             1                 1\n",
              "87656              1                 1\n",
              "102829             0                 0\n",
              "241982             0                 0\n",
              "218042             0                 0\n",
              "141490             0                 0\n",
              "302852             1                 1\n",
              "220813             0                 0"
            ]
          },
          "metadata": {},
          "output_type": "display_data"
        }
      ],
      "source": [
        "comparison = pd.DataFrame({'actual value': y_test, 'predictive value': y_pred})\n",
        "\n",
        "display(comparison.head(20))"
      ]
    }
  ],
  "metadata": {
    "kernelspec": {
      "display_name": "Python 3 (ipykernel)",
      "language": "python",
      "name": "python3"
    },
    "language_info": {
      "codemirror_mode": {
        "name": "ipython",
        "version": 3
      },
      "file_extension": ".py",
      "mimetype": "text/x-python",
      "name": "python",
      "nbconvert_exporter": "python",
      "pygments_lexer": "ipython3",
      "version": "3.11.5"
    },
    "papermill": {
      "default_parameters": {},
      "duration": 114.987744,
      "end_time": "2023-08-17T05:37:22.785418",
      "environment_variables": {},
      "exception": null,
      "input_path": "__notebook__.ipynb",
      "output_path": "__notebook__.ipynb",
      "parameters": {},
      "start_time": "2023-08-17T05:35:27.797674",
      "version": "2.4.0"
    },
    "colab": {
      "provenance": [],
      "include_colab_link": true
    }
  },
  "nbformat": 4,
  "nbformat_minor": 5
}